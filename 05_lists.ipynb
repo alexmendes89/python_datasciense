{
 "cells": [
  {
   "cell_type": "markdown",
   "metadata": {},
   "source": [
    "## **Python Essencial para Data Science**\n"
   ]
  },
  {
   "cell_type": "markdown",
   "metadata": {},
   "source": [
    "## Lists\n",
    "Uma lista em Python representa uma **sequência de elementos _ordenados_**."
   ]
  },
  {
   "cell_type": "code",
   "execution_count": 9,
   "metadata": {},
   "outputs": [
    {
     "data": {
      "text/plain": [
       "[20, 11, 60, 5, 44, 28]"
      ]
     },
     "execution_count": 9,
     "metadata": {},
     "output_type": "execute_result"
    }
   ],
   "source": [
    "numeros_da_mega_sena = [20, 11, 60, 5, 44, 28]\n",
    "numeros_da_mega_sena"
   ]
  },
  {
   "cell_type": "code",
   "execution_count": 10,
   "metadata": {},
   "outputs": [
    {
     "data": {
      "text/plain": [
       "list"
      ]
     },
     "execution_count": 10,
     "metadata": {},
     "output_type": "execute_result"
    }
   ],
   "source": [
    "type(numeros_da_mega_sena)"
   ]
  },
  {
   "cell_type": "markdown",
   "metadata": {},
   "source": [
    "A **ordenação** dos elementos refere-se a seus _posicionamentos_ na lista, ou seja, o primeiro elemento da lista é o 20, o segundo é o 11, e assim por diante. <br/>\n",
    "A **ordem** dos valores/conteúdos é outra coisa."
   ]
  },
  {
   "cell_type": "code",
   "execution_count": 5,
   "metadata": {},
   "outputs": [],
   "source": [
    "numeros_da_mega_sena = [10, 25, 34, 42, 50, 55]\n",
    "\n",
    "# Acessando o elemento de índice 3\n"
   ]
  },
  {
   "cell_type": "code",
   "execution_count": 6,
   "metadata": {},
   "outputs": [
    {
     "data": {
      "text/plain": [
       "42"
      ]
     },
     "execution_count": 6,
     "metadata": {},
     "output_type": "execute_result"
    }
   ],
   "source": [
    "# os índices da lista começam em 0 e vão até n-1, onde n é o número de elementos da lista (tamanho da lista)\n",
    "numeros_da_mega_sena[3]"
   ]
  },
  {
   "cell_type": "markdown",
   "metadata": {},
   "source": [
    "#### Listas vazias"
   ]
  },
  {
   "cell_type": "code",
   "execution_count": 12,
   "metadata": {},
   "outputs": [
    {
     "data": {
      "text/plain": [
       "[]"
      ]
     },
     "execution_count": 12,
     "metadata": {},
     "output_type": "execute_result"
    }
   ],
   "source": [
    "lista_vazia_1 = []\n",
    "lista_vazia_1"
   ]
  },
  {
   "cell_type": "code",
   "execution_count": 13,
   "metadata": {},
   "outputs": [
    {
     "data": {
      "text/plain": [
       "[]"
      ]
     },
     "execution_count": 13,
     "metadata": {},
     "output_type": "execute_result"
    }
   ],
   "source": [
    "lista_vazia_2 = list()\n",
    "lista_vazia_2"
   ]
  },
  {
   "cell_type": "markdown",
   "metadata": {},
   "source": [
    "#### Listas podem ter elementos de _qualquer tipo_"
   ]
  },
  {
   "cell_type": "code",
   "execution_count": 7,
   "metadata": {},
   "outputs": [
    {
     "name": "stdout",
     "output_type": "stream",
     "text": [
      "['Mercúrio', 'Vênus', 'Terra', 'Marte', 'Júpiter', 'Saturno', 'Urano', 'Netuno']\n"
     ]
    }
   ],
   "source": [
    "planetas = ['Mercúrio', 'Vênus', 'Terra', 'Marte', 'Júpiter', 'Saturno', 'Urano', 'Netuno']\n",
    "print(planetas)"
   ]
  },
  {
   "cell_type": "code",
   "execution_count": 2,
   "metadata": {},
   "outputs": [
    {
     "data": {
      "text/plain": [
       "['Alex', 'Rebeca', 'Dirceu', 'camila']"
      ]
     },
     "execution_count": 2,
     "metadata": {},
     "output_type": "execute_result"
    }
   ],
   "source": [
    "nomes = [\"Alex\", \"Rebeca\", \"Dirceu\", \"camila\"]\n",
    "nomes"
   ]
  },
  {
   "cell_type": "code",
   "execution_count": 3,
   "metadata": {},
   "outputs": [
    {
     "name": "stdout",
     "output_type": "stream",
     "text": [
      "['Alex', 'Rebeca', 'Dirceu', 'camila']\n"
     ]
    }
   ],
   "source": [
    "print(nomes)"
   ]
  },
  {
   "cell_type": "code",
   "execution_count": 16,
   "metadata": {},
   "outputs": [
    {
     "name": "stdout",
     "output_type": "stream",
     "text": [
      "['Mercúrio', 'Vênus', 'Terra', 'Marte', 'Júpiter', 'Saturno', 'Urano', 'Netuno']\n"
     ]
    }
   ],
   "source": [
    "print(planetas)"
   ]
  },
  {
   "cell_type": "markdown",
   "metadata": {},
   "source": [
    "#### Listas podem elementos de  _tipos diferentes_:"
   ]
  },
  {
   "cell_type": "code",
   "execution_count": 17,
   "metadata": {},
   "outputs": [
    {
     "data": {
      "text/plain": [
       "['Mercúrio',\n",
       " 'Vênus',\n",
       " 'Terra',\n",
       " 'Marte',\n",
       " 'Júpiter',\n",
       " 'Saturno',\n",
       " 'Urano',\n",
       " 'Netuno',\n",
       " 1,\n",
       " 2,\n",
       " 3.0]"
      ]
     },
     "execution_count": 17,
     "metadata": {},
     "output_type": "execute_result"
    }
   ],
   "source": [
    "planetas_e_numeros = ['Mercúrio', 'Vênus', 'Terra', 'Marte', 'Júpiter', 'Saturno', 'Urano', 'Netuno', 1, 2, 3.0]\n",
    "planetas_e_numeros"
   ]
  },
  {
   "cell_type": "markdown",
   "metadata": {},
   "source": [
    "#### Podemos ter listas de listas"
   ]
  },
  {
   "cell_type": "code",
   "execution_count": 18,
   "metadata": {},
   "outputs": [],
   "source": [
    "matriz = [\n",
    "    [1, 2, 3],    # [0] ==> primeira linha da matriz\n",
    "    [4, 5, 6],    # [1] ==> segunda linha da matriz\n",
    "    [7, 8, 9],    # [2] ==> terceira linha da matriz\n",
    "    [10, 11, 12]  # [3] ==> quarta linha da matriz\n",
    "]"
   ]
  },
  {
   "cell_type": "code",
   "execution_count": 19,
   "metadata": {},
   "outputs": [
    {
     "data": {
      "text/plain": [
       "[[1, 2, 3], [4, 5, 6], [7, 8, 9], [10, 11, 12]]"
      ]
     },
     "execution_count": 19,
     "metadata": {},
     "output_type": "execute_result"
    }
   ],
   "source": [
    "matriz"
   ]
  },
  {
   "cell_type": "code",
   "execution_count": 20,
   "metadata": {},
   "outputs": [
    {
     "data": {
      "text/plain": [
       "[1, 2, 3]"
      ]
     },
     "execution_count": 20,
     "metadata": {},
     "output_type": "execute_result"
    }
   ],
   "source": [
    "matriz[0]  # imprime a primeira linha da matriz"
   ]
  },
  {
   "cell_type": "code",
   "execution_count": 21,
   "metadata": {},
   "outputs": [
    {
     "data": {
      "text/plain": [
       "list"
      ]
     },
     "execution_count": 21,
     "metadata": {},
     "output_type": "execute_result"
    }
   ],
   "source": [
    "type(matriz)"
   ]
  },
  {
   "cell_type": "code",
   "execution_count": 22,
   "metadata": {},
   "outputs": [
    {
     "data": {
      "text/plain": [
       "list"
      ]
     },
     "execution_count": 22,
     "metadata": {},
     "output_type": "execute_result"
    }
   ],
   "source": [
    "type(matriz[0])"
   ]
  },
  {
   "cell_type": "code",
   "execution_count": 27,
   "metadata": {},
   "outputs": [
    {
     "name": "stdout",
     "output_type": "stream",
     "text": [
      "[1, 2, 3]\n",
      "[4, 5, 6]\n",
      "[7, 8, 9]\n",
      "[10, 11, 12]\n"
     ]
    }
   ],
   "source": [
    "# trecho de código que imprime a matriz de um jeito mais \"bonitinho\"\n",
    "for linha in matriz:\n",
    "    print(linha)  # linha é uma lista de elementos"
   ]
  },
  {
   "cell_type": "code",
   "execution_count": 26,
   "metadata": {},
   "outputs": [
    {
     "data": {
      "text/plain": [
       "6"
      ]
     },
     "execution_count": 26,
     "metadata": {},
     "output_type": "execute_result"
    }
   ],
   "source": [
    "matriz[1][2]  # arcessa o elemento que está na linha 1, coluna 2 da matriz"
   ]
  },
  {
   "cell_type": "markdown",
   "metadata": {},
   "source": [
    "### Indexação\n",
    "\n",
    "Cada elemento de uma lista é indexado a uma posição. <br/>\n",
    "Podemos acessar um elemento passando seu índice com []:"
   ]
  },
  {
   "cell_type": "code",
   "execution_count": 39,
   "metadata": {},
   "outputs": [
    {
     "name": "stdout",
     "output_type": "stream",
     "text": [
      "['Mercúrio', 'Vênus', 'Terra', 'Marte', 'Júpiter', 'Saturno', 'Urano', 'Netuno']\n"
     ]
    }
   ],
   "source": [
    "print(planetas)"
   ]
  },
  {
   "cell_type": "code",
   "execution_count": 40,
   "metadata": {},
   "outputs": [
    {
     "data": {
      "text/plain": [
       "'Mercúrio'"
      ]
     },
     "execution_count": 40,
     "metadata": {},
     "output_type": "execute_result"
    }
   ],
   "source": [
    "planetas[0]"
   ]
  },
  {
   "cell_type": "code",
   "execution_count": 42,
   "metadata": {},
   "outputs": [
    {
     "data": {
      "text/plain": [
       "'Terra'"
      ]
     },
     "execution_count": 42,
     "metadata": {},
     "output_type": "execute_result"
    }
   ],
   "source": [
    "planetas[2]"
   ]
  },
  {
   "cell_type": "code",
   "execution_count": 44,
   "metadata": {},
   "outputs": [
    {
     "data": {
      "text/plain": [
       "8"
      ]
     },
     "execution_count": 44,
     "metadata": {},
     "output_type": "execute_result"
    }
   ],
   "source": [
    "# checa o tamanho da lista (o número de elementos da lista)\n",
    "len(planetas)"
   ]
  },
  {
   "cell_type": "code",
   "execution_count": 45,
   "metadata": {},
   "outputs": [
    {
     "data": {
      "text/plain": [
       "'Netuno'"
      ]
     },
     "execution_count": 45,
     "metadata": {},
     "output_type": "execute_result"
    }
   ],
   "source": [
    "planetas[7]"
   ]
  },
  {
   "cell_type": "markdown",
   "metadata": {},
   "source": [
    "Listas em Python suportam **índices negativos**, cuja ordem de indexação é o contrário, começando do final para o início:"
   ]
  },
  {
   "cell_type": "code",
   "execution_count": 47,
   "metadata": {},
   "outputs": [
    {
     "data": {
      "text/plain": [
       "'Netuno'"
      ]
     },
     "execution_count": 47,
     "metadata": {},
     "output_type": "execute_result"
    }
   ],
   "source": [
    "planetas[-1]  # acessando o último elemento da lista"
   ]
  },
  {
   "cell_type": "code",
   "execution_count": 48,
   "metadata": {},
   "outputs": [
    {
     "data": {
      "text/plain": [
       "'Urano'"
      ]
     },
     "execution_count": 48,
     "metadata": {},
     "output_type": "execute_result"
    }
   ],
   "source": [
    "planetas[-2]  # acessando o penúltimo elemento da lista"
   ]
  },
  {
   "cell_type": "markdown",
   "metadata": {},
   "source": [
    "Podemos também acessar o _último elemento_ da lista desta maneira:"
   ]
  },
  {
   "cell_type": "code",
   "execution_count": 9,
   "metadata": {},
   "outputs": [
    {
     "data": {
      "text/plain": [
       "8"
      ]
     },
     "execution_count": 9,
     "metadata": {},
     "output_type": "execute_result"
    }
   ],
   "source": [
    "#Checa o tamanho da losta de planetas.\n",
    "len(planetas)"
   ]
  },
  {
   "cell_type": "code",
   "execution_count": 50,
   "metadata": {},
   "outputs": [
    {
     "data": {
      "text/plain": [
       "'Netuno'"
      ]
     },
     "execution_count": 50,
     "metadata": {},
     "output_type": "execute_result"
    }
   ],
   "source": [
    "planetas[len(planetas) - 1]"
   ]
  },
  {
   "cell_type": "markdown",
   "metadata": {},
   "source": [
    "Inline-style: \n",
    "![](./imagens/exemplo_lista_indices.png)"
   ]
  },
  {
   "cell_type": "markdown",
   "metadata": {},
   "source": [
    "### Slicing (fatiamento)\n",
    "Podemos retornar **uma cópia** dos elementos de um **intervalo contínuo** de uma lista. "
   ]
  },
  {
   "cell_type": "code",
   "execution_count": 53,
   "metadata": {},
   "outputs": [
    {
     "data": {
      "text/plain": [
       "['Mercúrio', 'Vênus', 'Terra']"
      ]
     },
     "execution_count": 53,
     "metadata": {},
     "output_type": "execute_result"
    }
   ],
   "source": [
    "# Quais são os 3 primeiros elementos (planetas) da nossa lista?\n",
    "planetas[0:3]  # 0:3 ==> gera o intervalo [0, 3) ===> [0, 1, 2]"
   ]
  },
  {
   "cell_type": "markdown",
   "metadata": {},
   "source": [
    "`planetas[0:3]` é nosso jeito de consultar os elementos da lista `planetas` do índice 0 até o índice 3 (sem incluí-lo)."
   ]
  },
  {
   "cell_type": "markdown",
   "metadata": {},
   "source": [
    "#### Entendendo os índices de um Intervalo\n",
    "Um intervalo em python sempre **inclui** o número passado como **limite inferior** e *exclui* o número do *limite superior* do intervalo.\n",
    "\n",
    "`[10:15]` são os números do intervalo [10, 15), ou seja, [10, 11, 12, 13, 14]"
   ]
  },
  {
   "cell_type": "markdown",
   "metadata": {},
   "source": [
    "#### De volta ao slicing"
   ]
  },
  {
   "cell_type": "markdown",
   "metadata": {},
   "source": [
    "Os índices iniciais e finais do intervalo do _slicing_ são **opcionais**.\n",
    "\n",
    "Se não informarmos o _índice inicial_, o valor 0 é assumido:"
   ]
  },
  {
   "cell_type": "code",
   "execution_count": 54,
   "metadata": {},
   "outputs": [
    {
     "name": "stdout",
     "output_type": "stream",
     "text": [
      "['Mercúrio', 'Vênus', 'Terra', 'Marte', 'Júpiter', 'Saturno', 'Urano', 'Netuno']\n"
     ]
    }
   ],
   "source": [
    "print(planetas)"
   ]
  },
  {
   "cell_type": "code",
   "execution_count": 55,
   "metadata": {},
   "outputs": [
    {
     "data": {
      "text/plain": [
       "['Mercúrio', 'Vênus', 'Terra']"
      ]
     },
     "execution_count": 55,
     "metadata": {},
     "output_type": "execute_result"
    }
   ],
   "source": [
    "# Quais são os 3 primeiros elementos (planetas) da nossa lista?\n",
    "planetas[:3]  # retorna os elements do intervalo [0, 3) ==> [0, 1, 2]"
   ]
  },
  {
   "cell_type": "markdown",
   "metadata": {},
   "source": [
    "Se ignorarmos o _índice final_, é assumido o _tamanho da lista_ `len(lista)`:"
   ]
  },
  {
   "cell_type": "code",
   "execution_count": 56,
   "metadata": {},
   "outputs": [
    {
     "data": {
      "text/plain": [
       "['Marte', 'Júpiter', 'Saturno', 'Urano', 'Netuno']"
      ]
     },
     "execution_count": 56,
     "metadata": {},
     "output_type": "execute_result"
    }
   ],
   "source": [
    "# retorna todos os elementos do intervalo [3, len(planetas)) ==> 3, 4, 5, 6, 7\n",
    "# outra forma de pensar, considera todos os elementos da lista a partir do índice [3] em diante\n",
    "planetas[3:]"
   ]
  },
  {
   "cell_type": "code",
   "execution_count": 11,
   "metadata": {},
   "outputs": [
    {
     "data": {
      "text/plain": [
       "['Júpiter', 'Saturno', 'Urano', 'Netuno']"
      ]
     },
     "execution_count": 11,
     "metadata": {},
     "output_type": "execute_result"
    }
   ],
   "source": [
    "planetas[4:]"
   ]
  },
  {
   "cell_type": "markdown",
   "metadata": {},
   "source": [
    "Podemos também fazer o slicing com **índices negativos**:"
   ]
  },
  {
   "cell_type": "code",
   "execution_count": 57,
   "metadata": {},
   "outputs": [
    {
     "data": {
      "text/plain": [
       "['Vênus', 'Terra', 'Marte', 'Júpiter', 'Saturno', 'Urano']"
      ]
     },
     "execution_count": 57,
     "metadata": {},
     "output_type": "execute_result"
    }
   ],
   "source": [
    "# 1:-1 ==> [1, -1) ==> [1, len(planetas)-1) ==> [1, 7)\n",
    "planetas[1:-1]"
   ]
  },
  {
   "cell_type": "markdown",
   "metadata": {},
   "source": [
    "`planetas[1:-1]` considera o intervalo que vai do índice [1], o **incluindo**, até o índice [-1] ou [len(planetas) - 1], no exemplo é o índice [7], o **excluindo**. <br/>\n",
    "Portanto, o intervalo retornado contém os índices [1, 2, 3, 4, 5, 6]."
   ]
  },
  {
   "cell_type": "markdown",
   "metadata": {},
   "source": [
    "<br/>"
   ]
  },
  {
   "cell_type": "markdown",
   "metadata": {},
   "source": [
    "Outro exemplo:"
   ]
  },
  {
   "cell_type": "code",
   "execution_count": 58,
   "metadata": {},
   "outputs": [
    {
     "name": "stdout",
     "output_type": "stream",
     "text": [
      "['Mercúrio', 'Vênus', 'Terra', 'Marte', 'Júpiter', 'Saturno', 'Urano', 'Netuno']\n"
     ]
    }
   ],
   "source": [
    "print(planetas)"
   ]
  },
  {
   "cell_type": "code",
   "execution_count": 59,
   "metadata": {},
   "outputs": [
    {
     "data": {
      "text/plain": [
       "['Saturno', 'Urano', 'Netuno']"
      ]
     },
     "execution_count": 59,
     "metadata": {},
     "output_type": "execute_result"
    }
   ],
   "source": [
    "planetas[-3:]"
   ]
  },
  {
   "cell_type": "markdown",
   "metadata": {},
   "source": [
    "Vamos entender o intervalo `[-3:]`.\n",
    "\n",
    "O índice `[-3]` corresponde ao índice `[len(planetas) - 3]`, ou seja, o índice `[5]`. <br/>\n",
    "Portanto, `[-3:]` é sinônonimo de `[5:]`.\n",
    "\n",
    "Ao omitir o último índice do intervalo, consideramos por padrão `len(planetas)`, que é 8. <br/>\n",
    "Logo, `[-3:]` é o mesmo que `[5:8]`, que resulta nos índices `[5, 6, 7]`, que são os índices dos 3 últimos elementos dessa lista."
   ]
  },
  {
   "cell_type": "markdown",
   "metadata": {},
   "source": [
    "#### Os elementos retornados pelo Slicing de Listas a uma variável são CÓPIAS"
   ]
  },
  {
   "cell_type": "code",
   "execution_count": 60,
   "metadata": {},
   "outputs": [
    {
     "name": "stdout",
     "output_type": "stream",
     "text": [
      "['Saturno', 'Urano', 'Netuno']\n",
      "['Mercúrio', 'Vênus', 'Terra', 'Marte', 'Júpiter', 'Saturno', 'Urano', 'Netuno']\n"
     ]
    }
   ],
   "source": [
    "ultimos_planetas = planetas[-3:]\n",
    "print(ultimos_planetas)\n",
    "print(planetas)"
   ]
  },
  {
   "cell_type": "code",
   "execution_count": 62,
   "metadata": {},
   "outputs": [
    {
     "name": "stdout",
     "output_type": "stream",
     "text": [
      "['Brasil', 'Urano', 'Netuno']\n",
      "['Mercúrio', 'Vênus', 'Terra', 'Marte', 'Júpiter', 'Saturno', 'Urano', 'Netuno']\n"
     ]
    }
   ],
   "source": [
    "ultimos_planetas[0] = 'Brasil'\n",
    "print(ultimos_planetas)\n",
    "print(planetas)"
   ]
  },
  {
   "cell_type": "markdown",
   "metadata": {},
   "source": [
    "#### Alteração de Múltiplos elementos de uma Lista via Slicing"
   ]
  },
  {
   "cell_type": "code",
   "execution_count": 65,
   "metadata": {},
   "outputs": [
    {
     "name": "stdout",
     "output_type": "stream",
     "text": [
      "['Mercúrio', 'Vênus', 'Terra', 'Marte', 'Júpiter', 'Saturno', 'Urano', 'Netuno']\n"
     ]
    }
   ],
   "source": [
    "print(planetas)"
   ]
  },
  {
   "cell_type": "code",
   "execution_count": 67,
   "metadata": {},
   "outputs": [
    {
     "name": "stdout",
     "output_type": "stream",
     "text": [
      "['Mercúrio', 'Vênus', 'Terra', 'Marte', 'Júpiter', 'Brasil', 'Holanda', 'Italia']\n"
     ]
    }
   ],
   "source": [
    "# planetas[-3] = 'Brasil'\n",
    "# planetas[-2] = 'Holanda'\n",
    "# planetas[-1] = 'Italia'\n",
    "\n",
    "## alternativamente\n",
    "planetas[-3:] = ['Brasil', 'Holanda', 'Italia']\n",
    "print(planetas)"
   ]
  },
  {
   "cell_type": "markdown",
   "metadata": {},
   "source": [
    "<br/>\n",
    "\n",
    "Se o **número de elementos atribuídos for DIFERENTE do número de elementos do slicing**, os elementes excedentos ou faltantes da lista são ignorados ===> TOME CUIDADO"
   ]
  },
  {
   "cell_type": "code",
   "execution_count": 69,
   "metadata": {},
   "outputs": [
    {
     "name": "stdout",
     "output_type": "stream",
     "text": [
      "['Mercúrio', 'Japão', 'Júpiter', 'Brasil', 'Holanda', 'Italia']\n"
     ]
    }
   ],
   "source": [
    "planetas[1:4] = ['Japão']\n",
    "print(planetas)"
   ]
  },
  {
   "cell_type": "markdown",
   "metadata": {},
   "source": [
    "### For-each em Listas\n",
    "Como mostrado no notebook anterior, podemos iterar elementos em uma lista:"
   ]
  },
  {
   "cell_type": "code",
   "execution_count": 12,
   "metadata": {},
   "outputs": [
    {
     "name": "stdout",
     "output_type": "stream",
     "text": [
      "['Mercúrio', 'Vênus', 'Terra', 'Marte', 'Júpiter', 'Saturno', 'Urano', 'Netuno']\n"
     ]
    }
   ],
   "source": [
    "planetas = ['Mercúrio', 'Vênus', 'Terra', 'Marte', 'Júpiter', 'Saturno', 'Urano', 'Netuno']\n",
    "print(planetas)"
   ]
  },
  {
   "cell_type": "code",
   "execution_count": 14,
   "metadata": {},
   "outputs": [
    {
     "name": "stdout",
     "output_type": "stream",
     "text": [
      "planeta = Vênus\n",
      "planeta = Terra\n",
      "planeta = Marte\n"
     ]
    }
   ],
   "source": [
    "# queremos iterar no intervalo [1, 4)\n",
    "planetas = ['Mercúrio', 'Vênus', 'Terra', 'Marte', 'Júpiter', 'Saturno', 'Urano', 'Netuno']\n",
    "for planeta in planetas[1:4]:\n",
    "    print('planeta = {}'.format(planeta))\n"
   ]
  },
  {
   "cell_type": "markdown",
   "metadata": {},
   "source": [
    "No `for`, podemos também recuperar o **índice** e o *elemento* de uma lista, basta usarmos o comando `enumerate`:\n",
    "\n",
    "<code>\n",
    "    for i, elemento in enumerate(lista):\n",
    "        intrução 01\n",
    "        ....\n",
    "</code>"
   ]
  },
  {
   "cell_type": "code",
   "execution_count": 15,
   "metadata": {},
   "outputs": [
    {
     "name": "stdout",
     "output_type": "stream",
     "text": [
      "planeta[0] = Vênus\n",
      "planeta[1] = Terra\n",
      "planeta[2] = Marte\n"
     ]
    }
   ],
   "source": [
    "# planetas[1:4] ==> gera uma nova lista com os elementos dos índice 1, 2, 3 da lista planetas\n",
    "# os elementos desta nova lista estão indexados a partir do 0\n",
    "\n",
    "planetas = ['Mercúrio', 'Vênus', 'Terra', 'Marte', 'Júpiter', 'Saturno', 'Urano', 'Netuno']\n",
    "for i, planeta in enumerate(planetas[1:4]):\n",
    "    print('planeta[{}] = {}'.format(i, planeta))\n"
   ]
  },
  {
   "cell_type": "code",
   "execution_count": 16,
   "metadata": {},
   "outputs": [
    {
     "name": "stdout",
     "output_type": "stream",
     "text": [
      "planeta[1] = Vênus\n",
      "planeta[2] = Terra\n",
      "planeta[3] = Marte\n"
     ]
    }
   ],
   "source": [
    "planetas = ['Mercúrio', 'Vênus', 'Terra', 'Marte', 'Júpiter', 'Saturno', 'Urano', 'Netuno']\n",
    "for i in range(1, 4):\n",
    "    print('planeta[{}] = {}'.format(i, planetas[i]))\n"
   ]
  },
  {
   "cell_type": "markdown",
   "metadata": {},
   "source": [
    "### Funções de Listas"
   ]
  },
  {
   "cell_type": "code",
   "execution_count": 82,
   "metadata": {},
   "outputs": [
    {
     "name": "stdout",
     "output_type": "stream",
     "text": [
      "['Mercúrio', 'Vênus', 'Terra', 'Marte', 'Júpiter', 'Saturno', 'Urano', 'Netuno']\n"
     ]
    }
   ],
   "source": [
    "print(planetas)"
   ]
  },
  {
   "cell_type": "markdown",
   "metadata": {},
   "source": [
    "`len` retorna o tamanho de uma lista (número de elementos)"
   ]
  },
  {
   "cell_type": "code",
   "execution_count": 83,
   "metadata": {},
   "outputs": [
    {
     "data": {
      "text/plain": [
       "8"
      ]
     },
     "execution_count": 83,
     "metadata": {},
     "output_type": "execute_result"
    }
   ],
   "source": [
    "len(planetas)"
   ]
  },
  {
   "cell_type": "markdown",
   "metadata": {},
   "source": [
    "`min` retorna o menor elemento de uma lista"
   ]
  },
  {
   "cell_type": "code",
   "execution_count": 84,
   "metadata": {},
   "outputs": [
    {
     "data": {
      "text/plain": [
       "2"
      ]
     },
     "execution_count": 84,
     "metadata": {},
     "output_type": "execute_result"
    }
   ],
   "source": [
    "lista_de_numeros = [10, 5, 20, 2]\n",
    "min(lista_de_numeros)"
   ]
  },
  {
   "cell_type": "code",
   "execution_count": 86,
   "metadata": {},
   "outputs": [
    {
     "data": {
      "text/plain": [
       "'Júpiter'"
      ]
     },
     "execution_count": 86,
     "metadata": {},
     "output_type": "execute_result"
    }
   ],
   "source": [
    "# no caso de uma lista de strings, retorna o 'menor' elemento em ordem alfabética\n",
    "min(planetas)"
   ]
  },
  {
   "cell_type": "markdown",
   "metadata": {},
   "source": [
    "`max` retorna o maior elemento de uma lista"
   ]
  },
  {
   "cell_type": "code",
   "execution_count": 87,
   "metadata": {},
   "outputs": [
    {
     "data": {
      "text/plain": [
       "20"
      ]
     },
     "execution_count": 87,
     "metadata": {},
     "output_type": "execute_result"
    }
   ],
   "source": [
    "max(lista_de_numeros)"
   ]
  },
  {
   "cell_type": "code",
   "execution_count": 88,
   "metadata": {},
   "outputs": [
    {
     "data": {
      "text/plain": [
       "'Vênus'"
      ]
     },
     "execution_count": 88,
     "metadata": {},
     "output_type": "execute_result"
    }
   ],
   "source": [
    "# no caso de uma lista de strings, retorna o 'maior' elemento em ordem alfabética\n",
    "max(planetas)"
   ]
  },
  {
   "cell_type": "markdown",
   "metadata": {},
   "source": [
    "`sum` retorna a soma de elementos de uma lista"
   ]
  },
  {
   "cell_type": "code",
   "execution_count": 89,
   "metadata": {},
   "outputs": [
    {
     "data": {
      "text/plain": [
       "37"
      ]
     },
     "execution_count": 89,
     "metadata": {},
     "output_type": "execute_result"
    }
   ],
   "source": [
    "# soma = 0\n",
    "# for num in lista_de_numeros:\n",
    "#     soma += num\n",
    "\n",
    "## alternativamente\n",
    "sum(lista_de_numeros)"
   ]
  },
  {
   "cell_type": "markdown",
   "metadata": {},
   "source": [
    "### Métodos de Listas"
   ]
  },
  {
   "cell_type": "markdown",
   "metadata": {},
   "source": [
    "`list.append` modifica uma lista adicionando um item (de qualquer tipo) no final."
   ]
  },
  {
   "cell_type": "code",
   "execution_count": 90,
   "metadata": {},
   "outputs": [
    {
     "name": "stdout",
     "output_type": "stream",
     "text": [
      "['Mercúrio', 'Vênus', 'Terra', 'Marte', 'Júpiter', 'Saturno', 'Urano', 'Netuno']\n"
     ]
    }
   ],
   "source": [
    "print(planetas)"
   ]
  },
  {
   "cell_type": "code",
   "execution_count": 91,
   "metadata": {},
   "outputs": [
    {
     "name": "stdout",
     "output_type": "stream",
     "text": [
      "['Mercúrio', 'Vênus', 'Terra', 'Marte', 'Júpiter', 'Saturno', 'Urano', 'Netuno', 'Plutão']\n"
     ]
    }
   ],
   "source": [
    "planetas.append('Plutão')\n",
    "print(planetas)"
   ]
  },
  {
   "cell_type": "markdown",
   "metadata": {},
   "source": [
    "`list.pop` remove e retorna o último elemento da lista:"
   ]
  },
  {
   "cell_type": "code",
   "execution_count": 92,
   "metadata": {},
   "outputs": [
    {
     "name": "stdout",
     "output_type": "stream",
     "text": [
      "Plutão\n",
      "['Mercúrio', 'Vênus', 'Terra', 'Marte', 'Júpiter', 'Saturno', 'Urano', 'Netuno']\n"
     ]
    }
   ],
   "source": [
    "ultimo_planeta = planetas.pop()\n",
    "print(ultimo_planeta)\n",
    "print(planetas)"
   ]
  },
  {
   "cell_type": "code",
   "execution_count": 93,
   "metadata": {},
   "outputs": [
    {
     "name": "stdout",
     "output_type": "stream",
     "text": [
      "Vênus\n",
      "['Mercúrio', 'Terra', 'Marte', 'Júpiter', 'Saturno', 'Urano', 'Netuno']\n"
     ]
    }
   ],
   "source": [
    "segundo_planeta = planetas.pop(1)\n",
    "print(segundo_planeta)\n",
    "print(planetas)"
   ]
  },
  {
   "cell_type": "markdown",
   "metadata": {},
   "source": [
    "`reverse` reverte a ordem dos elementos da lista."
   ]
  },
  {
   "cell_type": "code",
   "execution_count": 98,
   "metadata": {},
   "outputs": [
    {
     "name": "stdout",
     "output_type": "stream",
     "text": [
      "['Mercúrio', 'Vênus', 'Terra', 'Marte', 'Júpiter', 'Saturno', 'Urano', 'Netuno']\n"
     ]
    }
   ],
   "source": [
    "planetas = ['Mercúrio', 'Vênus', 'Terra', 'Marte', 'Júpiter', 'Saturno', 'Urano', 'Netuno']\n",
    "print(planetas)"
   ]
  },
  {
   "cell_type": "code",
   "execution_count": 25,
   "metadata": {},
   "outputs": [
    {
     "name": "stdout",
     "output_type": "stream",
     "text": [
      "['Netuno', 'Urano', 'Saturno', 'Júpiter', 'Marte', 'Terra', 'Vênus', 'Mercúrio']\n"
     ]
    }
   ],
   "source": [
    "planetas.reverse()  # reverte os elementos da lista planeta (in place, ou seja, reverte a própria lista)\n",
    "print(planetas)"
   ]
  },
  {
   "cell_type": "markdown",
   "metadata": {},
   "source": [
    "O possível problema é que a **própria lista** é revertida. <br>\n",
    "Caso você deseje ter uma **cópia revertida** da lista:"
   ]
  },
  {
   "cell_type": "code",
   "execution_count": 100,
   "metadata": {},
   "outputs": [
    {
     "name": "stdout",
     "output_type": "stream",
     "text": [
      "['Mercúrio', 'Vênus', 'Terra', 'Marte', 'Júpiter', 'Saturno', 'Urano', 'Netuno']\n"
     ]
    }
   ],
   "source": [
    "planetas = ['Mercúrio', 'Vênus', 'Terra', 'Marte', 'Júpiter', 'Saturno', 'Urano', 'Netuno']\n",
    "print(planetas)"
   ]
  },
  {
   "cell_type": "code",
   "execution_count": 24,
   "metadata": {},
   "outputs": [
    {
     "name": "stdout",
     "output_type": "stream",
     "text": [
      "['Mercúrio', 'Vênus', 'Terra', 'Marte', 'Júpiter', 'Saturno', 'Urano', 'Netuno']\n",
      "['Netuno', 'Urano', 'Saturno', 'Júpiter', 'Marte', 'Terra', 'Vênus', 'Mercúrio']\n"
     ]
    }
   ],
   "source": [
    "planetas_revertidos = list(planetas)  # faz uma cópia da lista de planetas\n",
    "planetas_revertidos.reverse()\n",
    "\n",
    "print(planetas)\n",
    "print(planetas_revertidos)"
   ]
  },
  {
   "cell_type": "markdown",
   "metadata": {},
   "source": [
    "#### Ordenação de listas"
   ]
  },
  {
   "cell_type": "markdown",
   "metadata": {},
   "source": [
    "`sorted` retorna uma versão **ordernada (em ordem crescente)** de uma lista (NÃO ALTERA A LISTA ATUAL)"
   ]
  },
  {
   "cell_type": "code",
   "execution_count": 102,
   "metadata": {},
   "outputs": [
    {
     "data": {
      "text/plain": [
       "[10, 5, 20, 2]"
      ]
     },
     "execution_count": 102,
     "metadata": {},
     "output_type": "execute_result"
    }
   ],
   "source": [
    "lista_de_numeros"
   ]
  },
  {
   "cell_type": "code",
   "execution_count": 105,
   "metadata": {},
   "outputs": [
    {
     "name": "stdout",
     "output_type": "stream",
     "text": [
      "[10, 5, 20, 2]\n",
      "[2, 5, 10, 20]\n"
     ]
    }
   ],
   "source": [
    "lista_de_numeros_ordenada = sorted(lista_de_numeros)\n",
    "\n",
    "print(lista_de_numeros)\n",
    "print(lista_de_numeros_ordenada)"
   ]
  },
  {
   "cell_type": "code",
   "execution_count": 106,
   "metadata": {},
   "outputs": [
    {
     "name": "stdout",
     "output_type": "stream",
     "text": [
      "['Mercúrio', 'Vênus', 'Terra', 'Marte', 'Júpiter', 'Saturno', 'Urano', 'Netuno']\n",
      "['Júpiter', 'Marte', 'Mercúrio', 'Netuno', 'Saturno', 'Terra', 'Urano', 'Vênus']\n"
     ]
    }
   ],
   "source": [
    "planetas_ordem_alfabetica = sorted(planetas)\n",
    "\n",
    "print(planetas)\n",
    "print(planetas_ordem_alfabetica)"
   ]
  },
  {
   "cell_type": "markdown",
   "metadata": {},
   "source": [
    "##### Para ordernar em **ordem descrente**"
   ]
  },
  {
   "cell_type": "code",
   "execution_count": 18,
   "metadata": {},
   "outputs": [
    {
     "name": "stdout",
     "output_type": "stream",
     "text": [
      "lista_de_numeros = [4, 2, 7, 1, 5]\n",
      "lista_de_numeros_ordenada = [7, 5, 4, 2, 1]\n",
      "lista_de_numeros_ordem_reversa = [7, 5, 4, 2, 1]\n"
     ]
    }
   ],
   "source": [
    "lista_de_numeros = [4, 2, 7, 1, 5]\n",
    "lista_de_numeros_ordem_reversa = sorted(lista_de_numeros)  # ordena em ordem crescente\n",
    "lista_de_numeros_ordem_reversa.reverse()\n",
    "\n",
    "print('lista_de_numeros = {}'.format(lista_de_numeros))\n",
    "print('lista_de_numeros_ordenada = {}'.format(lista_de_numeros_ordem_reversa))\n",
    "print('lista_de_numeros_ordem_reversa = {}'.format(lista_de_numeros_ordem_reversa))\n",
    "\n"
   ]
  },
  {
   "cell_type": "code",
   "execution_count": 21,
   "metadata": {},
   "outputs": [
    {
     "name": "stdout",
     "output_type": "stream",
     "text": [
      "planetas = ['Mercúrio', 'Vênus', 'Terra', 'Marte', 'Júpiter', 'Saturno', 'Urano', 'Netuno']\n",
      "planetas_ordem_alfabetica_reversa = ['Vênus', 'Urano', 'Terra', 'Saturno', 'Netuno', 'Mercúrio', 'Marte', 'Júpiter']\n"
     ]
    }
   ],
   "source": [
    "planetas = ['Mercúrio', 'Vênus', 'Terra', 'Marte', 'Júpiter', 'Saturno', 'Urano', 'Netuno']\n",
    "planetas_ordem_alfabetica_reversa = sorted(planetas)\n",
    "planetas_ordem_alfabetica_reversa.reverse()\n",
    "\n",
    "print('planetas = {}'.format(planetas))\n",
    "print('planetas_ordem_alfabetica_reversa = {}'.format(planetas_ordem_alfabetica_reversa))\n",
    "\n"
   ]
  },
  {
   "cell_type": "markdown",
   "metadata": {},
   "source": [
    "#### Buscando elementos em uma lista"
   ]
  },
  {
   "cell_type": "markdown",
   "metadata": {},
   "source": [
    "`list.index` retorna o índice de um dado elemento da lista, ou lança uma exception caso ele não esteja presente na lista."
   ]
  },
  {
   "cell_type": "code",
   "execution_count": 109,
   "metadata": {},
   "outputs": [
    {
     "name": "stdout",
     "output_type": "stream",
     "text": [
      "['Mercúrio', 'Vênus', 'Terra', 'Marte', 'Júpiter', 'Saturno', 'Urano', 'Netuno']\n"
     ]
    }
   ],
   "source": [
    "print(planetas)"
   ]
  },
  {
   "cell_type": "code",
   "execution_count": 110,
   "metadata": {},
   "outputs": [
    {
     "data": {
      "text/plain": [
       "3"
      ]
     },
     "execution_count": 110,
     "metadata": {},
     "output_type": "execute_result"
    }
   ],
   "source": [
    "# qual é o índice do elemento 'Marte'?\n",
    "planetas.index('Marte')"
   ]
  },
  {
   "cell_type": "code",
   "execution_count": 23,
   "metadata": {},
   "outputs": [
    {
     "data": {
      "text/plain": [
       "6"
      ]
     },
     "execution_count": 23,
     "metadata": {},
     "output_type": "execute_result"
    }
   ],
   "source": [
    "# qual é o índice do elemento 'Urano'? ==> lançar (raise) exception\n",
    "planetas.index('Urano')"
   ]
  },
  {
   "cell_type": "markdown",
   "metadata": {},
   "source": [
    "Outra alternativa melhor para saber se **uma lista contém ou não um dado elemento**, sem o lançamento de exception, é usar o `in`:"
   ]
  },
  {
   "cell_type": "code",
   "execution_count": 112,
   "metadata": {},
   "outputs": [
    {
     "data": {
      "text/plain": [
       "True"
      ]
     },
     "execution_count": 112,
     "metadata": {},
     "output_type": "execute_result"
    }
   ],
   "source": [
    "'Marte' in planetas"
   ]
  },
  {
   "cell_type": "code",
   "execution_count": 113,
   "metadata": {},
   "outputs": [
    {
     "data": {
      "text/plain": [
       "False"
      ]
     },
     "execution_count": 113,
     "metadata": {},
     "output_type": "execute_result"
    }
   ],
   "source": [
    "'Brasil' in planetas"
   ]
  },
  {
   "cell_type": "markdown",
   "metadata": {},
   "source": [
    "Podemos ainda usar o `not in` para checar se a lista **não possui um dado elemento**:"
   ]
  },
  {
   "cell_type": "code",
   "execution_count": 114,
   "metadata": {},
   "outputs": [
    {
     "data": {
      "text/plain": [
       "True"
      ]
     },
     "execution_count": 114,
     "metadata": {},
     "output_type": "execute_result"
    }
   ],
   "source": [
    "'Brasil' not in planetas"
   ]
  },
  {
   "cell_type": "markdown",
   "metadata": {},
   "source": [
    "#### Concatenando listas\n",
    "Suponha que desejamos juntar/concatenar duas listas em uma só. <br/>\n",
    "Podemos tentar usar o método `append`, pois ele adiciona um dado elemento ao final da lista.\n",
    "Vejamos:"
   ]
  },
  {
   "cell_type": "code",
   "execution_count": 115,
   "metadata": {},
   "outputs": [
    {
     "name": "stdout",
     "output_type": "stream",
     "text": [
      "['São Paulo', 'Santo André', 'São Bernardo', 'São Caetano']\n",
      "['Pompéia', 'Campinas', 'Hortolândia']\n"
     ]
    }
   ],
   "source": [
    "cidades_grande_sp = ['São Paulo', 'Santo André', 'São Bernardo', 'São Caetano']\n",
    "cidades_interior_sp = ['Pompéia', 'Campinas', 'Hortolândia']\n",
    "\n",
    "print(cidades_grande_sp)\n",
    "print(cidades_interior_sp)"
   ]
  },
  {
   "cell_type": "code",
   "execution_count": 117,
   "metadata": {},
   "outputs": [
    {
     "name": "stdout",
     "output_type": "stream",
     "text": [
      "['São Paulo', 'Santo André', 'São Bernardo', 'São Caetano', 'Pompéia', 'Campinas', 'Hortolândia']\n"
     ]
    }
   ],
   "source": [
    "# ALTERNATIVA 1\n",
    "cidades_estado_sp = cidades_grande_sp + cidades_interior_sp\n",
    "print(cidades_estado_sp)"
   ]
  },
  {
   "cell_type": "code",
   "execution_count": 119,
   "metadata": {},
   "outputs": [],
   "source": [
    "# ALTERNATIVA 2 ==> NÃO FUNCIONA COMO ESPERADO\n",
    "cidades_estado_sp = list(cidades_grande_sp)  # copia a cidades_grande_sp\n",
    "cidades_estado_sp.append(cidades_interior_sp)"
   ]
  },
  {
   "cell_type": "code",
   "execution_count": 120,
   "metadata": {},
   "outputs": [
    {
     "name": "stdout",
     "output_type": "stream",
     "text": [
      "['São Paulo', 'Santo André', 'São Bernardo', 'São Caetano', ['Pompéia', 'Campinas', 'Hortolândia']]\n"
     ]
    }
   ],
   "source": [
    "print(cidades_estado_sp)"
   ]
  },
  {
   "cell_type": "markdown",
   "metadata": {},
   "source": [
    "Note que a a lista `cidades_estado_sp` tem agora alguns elementos que são _strings_, e o último elemento é uma _lista_. <br/>\n",
    "O que queremos, na verdade, é ter uma lista **apenas com _strings_**.\n",
    "\n",
    "Para isso, podemo usar o método `lista.extend(lista_2)` que vai copiar todos os elementos dentro da lista `lista_2` e colocá-los no final da lista `lista`."
   ]
  },
  {
   "cell_type": "code",
   "execution_count": 122,
   "metadata": {},
   "outputs": [],
   "source": [
    "# ALTERNATIVA 3\n",
    "cidades_estado_sp = list(cidades_grande_sp)  # copia a cidades_grande_sp\n",
    "cidades_estado_sp.extend(cidades_interior_sp)"
   ]
  },
  {
   "cell_type": "code",
   "execution_count": 123,
   "metadata": {},
   "outputs": [
    {
     "name": "stdout",
     "output_type": "stream",
     "text": [
      "['São Paulo', 'Santo André', 'São Bernardo', 'São Caetano', 'Pompéia', 'Campinas', 'Hortolândia']\n"
     ]
    }
   ],
   "source": [
    "print(cidades_estado_sp)"
   ]
  },
  {
   "cell_type": "markdown",
   "metadata": {},
   "source": [
    "### List Comprehensions\n",
    "É uma forma curta de se criar listas."
   ]
  },
  {
   "cell_type": "markdown",
   "metadata": {},
   "source": [
    "**Ex 1)** Suponha que queremos criar uma lista cujo valor do índice [i] é i^2 (o índice ao quadrado). <br/>\n",
    "Uma forma padrão seria:"
   ]
  },
  {
   "cell_type": "code",
   "execution_count": 125,
   "metadata": {},
   "outputs": [
    {
     "name": "stdout",
     "output_type": "stream",
     "text": [
      "[0, 1, 4, 9, 16, 25, 36, 49, 64, 81]\n"
     ]
    }
   ],
   "source": [
    "# [0, 1, 4, 9, ...]\n",
    "\n",
    "quadrados = []\n",
    "\n",
    "for i in range(10):\n",
    "    quadrados.append(i ** 2)\n",
    "\n",
    "print(quadrados)"
   ]
  },
  {
   "cell_type": "code",
   "execution_count": 26,
   "metadata": {},
   "outputs": [
    {
     "name": "stdout",
     "output_type": "stream",
     "text": [
      "ANTES: [0, 1, 2, 3, 4, 5, 6, 7, 8, 9]\n",
      "DEPOIS: [0, 1, 4, 9, 16, 25, 36, 49, 64, 81]\n"
     ]
    }
   ],
   "source": [
    "quadrados = list(range(10))\n",
    "print('ANTES: {}'.format(quadrados))\n",
    "\n",
    "for i, num in enumerate(quadrados):\n",
    "    quadrados[i] = num ** 2\n",
    "\n",
    "print('DEPOIS: {}'.format(quadrados))\n"
   ]
  },
  {
   "cell_type": "markdown",
   "metadata": {},
   "source": [
    "Usando o **list comprehensions**:"
   ]
  },
  {
   "cell_type": "code",
   "execution_count": 129,
   "metadata": {},
   "outputs": [
    {
     "name": "stdout",
     "output_type": "stream",
     "text": [
      "[0, 1, 4, 9, 16, 25, 36, 49, 64, 81]\n"
     ]
    }
   ],
   "source": [
    "quadrados = [i**2 for i in range(10)]\n",
    "print(quadrados)"
   ]
  },
  {
   "cell_type": "markdown",
   "metadata": {},
   "source": [
    "**Ex 2)** Filtrando os elementos negativos de uma lista:"
   ]
  },
  {
   "cell_type": "code",
   "execution_count": 131,
   "metadata": {},
   "outputs": [
    {
     "name": "stdout",
     "output_type": "stream",
     "text": [
      "[10, 25, 99, 1]\n"
     ]
    }
   ],
   "source": [
    "lista_de_numeros = [10, -2, 25, -5, 99, 1]\n",
    "\n",
    "# ALTERNATIVA 1\n",
    "lista_de_numeros_positivos = []\n",
    "for num in lista_de_numeros:\n",
    "    if num >= 0:\n",
    "        lista_de_numeros_positivos.append(num)\n",
    "\n",
    "print(lista_de_numeros_positivos)"
   ]
  },
  {
   "cell_type": "code",
   "execution_count": 133,
   "metadata": {},
   "outputs": [
    {
     "name": "stdout",
     "output_type": "stream",
     "text": [
      "[10, 25, 99, 1]\n"
     ]
    }
   ],
   "source": [
    "lista_de_numeros = [10, -2, 25, -5, 99, 1]\n",
    "\n",
    "# ALTERNATIVA 2\n",
    "lista_de_numeros_positivos = [num for num in lista_de_numeros if num >= 0]\n",
    "print(lista_de_numeros_positivos)"
   ]
  },
  {
   "cell_type": "markdown",
   "metadata": {},
   "source": [
    "Outra maneira de aplicar funções a listas é usar **lambda functions**."
   ]
  },
  {
   "cell_type": "markdown",
   "metadata": {},
   "source": [
    "**Ex 3) Map e Lambda functions**:"
   ]
  },
  {
   "cell_type": "code",
   "execution_count": 135,
   "metadata": {},
   "outputs": [
    {
     "name": "stdout",
     "output_type": "stream",
     "text": [
      "[0, 1, 2, 3, 4, 5, 6, 7, 8, 9]\n"
     ]
    }
   ],
   "source": [
    "lista_de_numeros = list(range(10))\n",
    "print(lista_de_numeros)"
   ]
  },
  {
   "cell_type": "code",
   "execution_count": 136,
   "metadata": {},
   "outputs": [],
   "source": [
    "def power_of_2(x):\n",
    "    return x ** 2"
   ]
  },
  {
   "cell_type": "code",
   "execution_count": 138,
   "metadata": {},
   "outputs": [
    {
     "name": "stdout",
     "output_type": "stream",
     "text": [
      "[0, 1, 4, 9, 16, 25, 36, 49, 64, 81]\n"
     ]
    }
   ],
   "source": [
    "quadrados = list(map(power_of_2, lista_de_numeros))\n",
    "print(quadrados)"
   ]
  },
  {
   "cell_type": "markdown",
   "metadata": {},
   "source": [
    "**Lambda fuction**: Funções anônimas que podem receber qualquer número de parâmetros mas **pode apenas ter UMA única expressão**."
   ]
  },
  {
   "cell_type": "code",
   "execution_count": 141,
   "metadata": {},
   "outputs": [
    {
     "name": "stdout",
     "output_type": "stream",
     "text": [
      "[0, 1, 4, 9, 16, 25, 36, 49, 64, 81]\n"
     ]
    }
   ],
   "source": [
    "quadrados_2 = list(map(lambda x: x ** 2, lista_de_numeros))\n",
    "print(quadrados_2)"
   ]
  }
 ],
 "metadata": {
  "kernelspec": {
   "display_name": "Python 3 (ipykernel)",
   "language": "python",
   "name": "python3"
  },
  "language_info": {
   "codemirror_mode": {
    "name": "ipython",
    "version": 3
   },
   "file_extension": ".py",
   "mimetype": "text/x-python",
   "name": "python",
   "nbconvert_exporter": "python",
   "pygments_lexer": "ipython3",
   "version": "3.10.1"
  }
 },
 "nbformat": 4,
 "nbformat_minor": 4
}
